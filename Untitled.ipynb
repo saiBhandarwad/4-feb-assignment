{
 "cells": [
  {
   "cell_type": "code",
   "execution_count": 17,
   "id": "07e8954b-a7ed-4dbf-a103-01d62d334f78",
   "metadata": {},
   "outputs": [
    {
     "name": "stdout",
     "output_type": "stream",
     "text": [
      "[('Virat Kohli', 24936), ('Jack Kallis', 25534), ('Ricky Ponting', 27483), ('Sachin Tendulkar', 34357)]\n"
     ]
    }
   ],
   "source": [
    "#Q1.ANS=>\n",
    "l=[('Sachin Tendulkar', 34357), ('Ricky Ponting', 27483), ('Jack Kallis', 25534), ('Virat Kohli', 24936)]\n",
    "\n",
    "l.sort(key = lambda x: x[1])\n",
    "print(l)"
   ]
  },
  {
   "cell_type": "code",
   "execution_count": 28,
   "id": "38cd4383-814e-4b65-a9b1-0bdd9f44ce72",
   "metadata": {},
   "outputs": [
    {
     "data": {
      "text/plain": [
       "[1, 4, 9, 16, 25, 36, 49, 64, 81, 100]"
      ]
     },
     "execution_count": 28,
     "metadata": {},
     "output_type": "execute_result"
    }
   ],
   "source": [
    "#Q2.ANS=>\n",
    "l=[1, 2, 3, 4, 5, 6, 7, 8, 9, 10]\n",
    "sq=lambda x:x**2\n",
    "list(map(sq,l))"
   ]
  },
  {
   "cell_type": "code",
   "execution_count": 29,
   "id": "98188e23-b4dd-4ac5-a52f-ca90e74cb45b",
   "metadata": {},
   "outputs": [
    {
     "data": {
      "text/plain": [
       "('1', '2', '3', '4', '5', '6', '7', '8', '9', '10')"
      ]
     },
     "execution_count": 29,
     "metadata": {},
     "output_type": "execute_result"
    }
   ],
   "source": [
    "#Q3.ANS=>\n",
    "s= [1, 2, 3, 4, 5, 6, 7, 8, 9, 10]\n",
    "a=lambda x:str(x)\n",
    "tuple(map(a,s))"
   ]
  },
  {
   "cell_type": "code",
   "execution_count": 37,
   "id": "74349de7-72f9-4575-8768-f9581bd0c9e3",
   "metadata": {},
   "outputs": [
    {
     "name": "stdout",
     "output_type": "stream",
     "text": [
      "[1, 2, 3, 4, 5, 6, 7, 8, 9, 10, 11, 12, 13, 14, 15, 16, 17, 18, 19, 20, 21, 22, 23, 24, 25]\n"
     ]
    },
    {
     "data": {
      "text/plain": [
       "15511210043330985984000000"
      ]
     },
     "execution_count": 37,
     "metadata": {},
     "output_type": "execute_result"
    }
   ],
   "source": [
    "#Q4.ANS=>\n",
    "from functools import reduce\n",
    "l=[i for i in range(1,26)]\n",
    "print(l)\n",
    "reduce(lambda x,y : x*y, l)"
   ]
  },
  {
   "cell_type": "code",
   "execution_count": 38,
   "id": "43c3f225-a4ba-48b7-92cc-7e94944d0ae1",
   "metadata": {},
   "outputs": [
    {
     "data": {
      "text/plain": [
       "[6, 60, 90, 120]"
      ]
     },
     "execution_count": 38,
     "metadata": {},
     "output_type": "execute_result"
    }
   ],
   "source": [
    "#Q5.ANS=>\n",
    "l=[2, 3, 6, 9, 27, 60, 90, 120, 55, 46]\n",
    "list(filter(lambda x : x%2==0 and x%3==0,l))"
   ]
  },
  {
   "cell_type": "code",
   "execution_count": 57,
   "id": "59b51a14-f15d-403c-ba8c-83289b6061c4",
   "metadata": {},
   "outputs": [],
   "source": [
    "#Q6.ANS=>\n",
    "s=['python', 'php', 'aba', 'radar', 'level']\n",
    "result=list(filter(lambda x: (x == \"\".join(reversed(x))), s))"
   ]
  },
  {
   "cell_type": "code",
   "execution_count": null,
   "id": "adaba85f-90c0-4587-aa9d-71996daf77e2",
   "metadata": {},
   "outputs": [],
   "source": []
  }
 ],
 "metadata": {
  "kernelspec": {
   "display_name": "Python 3 (ipykernel)",
   "language": "python",
   "name": "python3"
  },
  "language_info": {
   "codemirror_mode": {
    "name": "ipython",
    "version": 3
   },
   "file_extension": ".py",
   "mimetype": "text/x-python",
   "name": "python",
   "nbconvert_exporter": "python",
   "pygments_lexer": "ipython3",
   "version": "3.10.8"
  }
 },
 "nbformat": 4,
 "nbformat_minor": 5
}
